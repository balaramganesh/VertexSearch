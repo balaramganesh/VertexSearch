{
 "cells": [
  {
   "cell_type": "markdown",
   "metadata": {},
   "source": [
    "This notebook demonstrates how to create a vertex index using FAISS (Facebook AI Similarity Search) library on a movies dataset containing movie titles and descriptions, which can then be used to query for closest movies for our custom movie description"
   ]
  },
  {
   "cell_type": "code",
   "execution_count": 31,
   "metadata": {},
   "outputs": [],
   "source": [
    "import pandas as pd\n",
    "import os\n",
    "import multiprocessing\n",
    "import torch\n",
    "import numpy as np\n",
    "import faiss\n",
    "from faiss.contrib.client_server import run_index_server, ClientIndex\n",
    "import sqlite3"
   ]
  },
  {
   "cell_type": "markdown",
   "metadata": {},
   "source": [
    "Import the movies_metadata.csv file from https://www.kaggle.com/datasets/rounakbanik/the-movies-dataset. I have attached the same in the repo"
   ]
  },
  {
   "cell_type": "code",
   "execution_count": 2,
   "metadata": {},
   "outputs": [
    {
     "name": "stderr",
     "output_type": "stream",
     "text": [
      "C:\\Users\\Balaram Ganesh\\AppData\\Local\\Temp\\ipykernel_27688\\3328595910.py:1: DtypeWarning: Columns (10) have mixed types. Specify dtype option on import or set low_memory=False.\n",
      "  moviesMetadata = pd.read_csv(\"A:\\\\Experiment_Programs\\\\VertexSearch\\\\movies_metadata.csv\")\n"
     ]
    }
   ],
   "source": [
    "moviesMetadata = pd.read_csv(\"A:\\\\Experiment_Programs\\\\VertexSearch\\\\movies_metadata.csv\")"
   ]
  },
  {
   "cell_type": "code",
   "execution_count": 33,
   "metadata": {},
   "outputs": [
    {
     "data": {
      "text/plain": [
       "(45466, 24)"
      ]
     },
     "execution_count": 33,
     "metadata": {},
     "output_type": "execute_result"
    }
   ],
   "source": [
    "moviesMetadata.shape"
   ]
  },
  {
   "cell_type": "markdown",
   "metadata": {},
   "source": [
    "Picking the descriptions of only the first 1000 movies in the movies list to play with because my system cannot handling the load of encoding the descriptions of 45000 movies."
   ]
  },
  {
   "cell_type": "code",
   "execution_count": 3,
   "metadata": {},
   "outputs": [
    {
     "data": {
      "text/html": [
       "<div>\n",
       "<style scoped>\n",
       "    .dataframe tbody tr th:only-of-type {\n",
       "        vertical-align: middle;\n",
       "    }\n",
       "\n",
       "    .dataframe tbody tr th {\n",
       "        vertical-align: top;\n",
       "    }\n",
       "\n",
       "    .dataframe thead th {\n",
       "        text-align: right;\n",
       "    }\n",
       "</style>\n",
       "<table border=\"1\" class=\"dataframe\">\n",
       "  <thead>\n",
       "    <tr style=\"text-align: right;\">\n",
       "      <th></th>\n",
       "      <th>movie_title</th>\n",
       "      <th>movie_description</th>\n",
       "    </tr>\n",
       "  </thead>\n",
       "  <tbody>\n",
       "    <tr>\n",
       "      <th>0</th>\n",
       "      <td>Toy Story</td>\n",
       "      <td>Led by Woody, Andy's toys live happily in his ...</td>\n",
       "    </tr>\n",
       "    <tr>\n",
       "      <th>1</th>\n",
       "      <td>Jumanji</td>\n",
       "      <td>When siblings Judy and Peter discover an encha...</td>\n",
       "    </tr>\n",
       "    <tr>\n",
       "      <th>2</th>\n",
       "      <td>Grumpier Old Men</td>\n",
       "      <td>A family wedding reignites the ancient feud be...</td>\n",
       "    </tr>\n",
       "    <tr>\n",
       "      <th>3</th>\n",
       "      <td>Waiting to Exhale</td>\n",
       "      <td>Cheated on, mistreated and stepped on, the wom...</td>\n",
       "    </tr>\n",
       "    <tr>\n",
       "      <th>4</th>\n",
       "      <td>Father of the Bride Part II</td>\n",
       "      <td>Just when George Banks has recovered from his ...</td>\n",
       "    </tr>\n",
       "    <tr>\n",
       "      <th>...</th>\n",
       "      <td>...</td>\n",
       "      <td>...</td>\n",
       "    </tr>\n",
       "    <tr>\n",
       "      <th>995</th>\n",
       "      <td>The Three Caballeros</td>\n",
       "      <td>For Donald's birthday he receives a box with t...</td>\n",
       "    </tr>\n",
       "    <tr>\n",
       "      <th>996</th>\n",
       "      <td>The Sword in the Stone</td>\n",
       "      <td>Wart is a young boy who aspires to be a knight...</td>\n",
       "    </tr>\n",
       "    <tr>\n",
       "      <th>997</th>\n",
       "      <td>So Dear to My Heart</td>\n",
       "      <td>The tale of Jeremiah Kincaid and his quest to ...</td>\n",
       "    </tr>\n",
       "    <tr>\n",
       "      <th>998</th>\n",
       "      <td>Robin Hood: Prince of Thieves</td>\n",
       "      <td>When the dastardly Sheriff of Nottingham murde...</td>\n",
       "    </tr>\n",
       "    <tr>\n",
       "      <th>999</th>\n",
       "      <td>Mary Poppins</td>\n",
       "      <td>The movie combines a diverting story, songs, c...</td>\n",
       "    </tr>\n",
       "  </tbody>\n",
       "</table>\n",
       "<p>1000 rows × 2 columns</p>\n",
       "</div>"
      ],
      "text/plain": [
       "                       movie_title  \\\n",
       "0                        Toy Story   \n",
       "1                          Jumanji   \n",
       "2                 Grumpier Old Men   \n",
       "3                Waiting to Exhale   \n",
       "4      Father of the Bride Part II   \n",
       "..                             ...   \n",
       "995           The Three Caballeros   \n",
       "996         The Sword in the Stone   \n",
       "997            So Dear to My Heart   \n",
       "998  Robin Hood: Prince of Thieves   \n",
       "999                   Mary Poppins   \n",
       "\n",
       "                                     movie_description  \n",
       "0    Led by Woody, Andy's toys live happily in his ...  \n",
       "1    When siblings Judy and Peter discover an encha...  \n",
       "2    A family wedding reignites the ancient feud be...  \n",
       "3    Cheated on, mistreated and stepped on, the wom...  \n",
       "4    Just when George Banks has recovered from his ...  \n",
       "..                                                 ...  \n",
       "995  For Donald's birthday he receives a box with t...  \n",
       "996  Wart is a young boy who aspires to be a knight...  \n",
       "997  The tale of Jeremiah Kincaid and his quest to ...  \n",
       "998  When the dastardly Sheriff of Nottingham murde...  \n",
       "999  The movie combines a diverting story, songs, c...  \n",
       "\n",
       "[1000 rows x 2 columns]"
      ]
     },
     "execution_count": 3,
     "metadata": {},
     "output_type": "execute_result"
    }
   ],
   "source": [
    "inputDf = moviesMetadata.iloc[:1000][['original_title','overview']]\n",
    "inputDf.rename(columns={'original_title':'movie_title','overview':'movie_description'},inplace=True)\n",
    "inputDf"
   ]
  },
  {
   "cell_type": "code",
   "execution_count": 4,
   "metadata": {},
   "outputs": [
    {
     "name": "stdout",
     "output_type": "stream",
     "text": [
      "<class 'pandas.core.frame.DataFrame'>\n",
      "RangeIndex: 1000 entries, 0 to 999\n",
      "Data columns (total 2 columns):\n",
      " #   Column             Non-Null Count  Dtype \n",
      "---  ------             --------------  ----- \n",
      " 0   movie_title        1000 non-null   object\n",
      " 1   movie_description  988 non-null    object\n",
      "dtypes: object(2)\n",
      "memory usage: 15.8+ KB\n"
     ]
    }
   ],
   "source": [
    "inputDf.info()"
   ]
  },
  {
   "cell_type": "markdown",
   "metadata": {},
   "source": [
    "Filling null values in the movie_description column"
   ]
  },
  {
   "cell_type": "code",
   "execution_count": 5,
   "metadata": {},
   "outputs": [
    {
     "data": {
      "text/plain": [
       "movie_description\n",
       "True     988\n",
       "False     12\n",
       "Name: count, dtype: int64"
      ]
     },
     "execution_count": 5,
     "metadata": {},
     "output_type": "execute_result"
    }
   ],
   "source": [
    "inputDf['movie_description'].notna().value_counts()"
   ]
  },
  {
   "cell_type": "code",
   "execution_count": 6,
   "metadata": {},
   "outputs": [],
   "source": [
    "inputDf['movie_description'] = inputDf['movie_description'].fillna('This movie does not matter at all')"
   ]
  },
  {
   "cell_type": "code",
   "execution_count": 7,
   "metadata": {},
   "outputs": [
    {
     "data": {
      "text/plain": [
       "movie_description\n",
       "True    1000\n",
       "Name: count, dtype: int64"
      ]
     },
     "execution_count": 7,
     "metadata": {},
     "output_type": "execute_result"
    }
   ],
   "source": [
    "inputDf['movie_description'].notna().value_counts()"
   ]
  },
  {
   "cell_type": "markdown",
   "metadata": {},
   "source": [
    "Using BERT (Bidirectional Encoder Representations for Transformers) for tokenizing and embedding the descriptions for the movies"
   ]
  },
  {
   "cell_type": "code",
   "execution_count": 8,
   "metadata": {},
   "outputs": [
    {
     "name": "stderr",
     "output_type": "stream",
     "text": [
      "A:\\Programs\\Anaconda\\envs\\latestPyEnv\\Lib\\site-packages\\huggingface_hub\\file_download.py:1132: FutureWarning: `resume_download` is deprecated and will be removed in version 1.0.0. Downloads always resume when possible. If you want to force a new download, use `force_download=True`.\n",
      "  warnings.warn(\n"
     ]
    }
   ],
   "source": [
    "from transformers import AutoModel,AutoTokenizer\n",
    "model_name = 'bert-base-uncased'\n",
    "tokenizer = AutoTokenizer.from_pretrained(model_name)\n",
    "model = AutoModel.from_pretrained(model_name)"
   ]
  },
  {
   "cell_type": "code",
   "execution_count": 9,
   "metadata": {},
   "outputs": [],
   "source": [
    "def tokenize_description(description):\n",
    "    return tokenizer.tokenize(description)"
   ]
  },
  {
   "cell_type": "code",
   "execution_count": 10,
   "metadata": {},
   "outputs": [],
   "source": [
    "def embed_description(description):\n",
    "    inputs = tokenizer(description, return_tensors=\"pt\",truncation=True,padding=True)\n",
    "    with torch.no_grad():\n",
    "        outputs = model(**inputs)\n",
    "        embeddings = outputs.last_hidden_state.mean(dim=1).squeeze().tolist()\n",
    "    return embeddings"
   ]
  },
  {
   "cell_type": "markdown",
   "metadata": {},
   "source": [
    "A sample of how the embeddings for a few movie descriptions would look like"
   ]
  },
  {
   "cell_type": "code",
   "execution_count": 11,
   "metadata": {},
   "outputs": [
    {
     "data": {
      "text/plain": [
       "0    [-0.25185489654541016, 0.23600180447101593, 0....\n",
       "1    [-0.20528849959373474, 0.14001354575157166, 0....\n",
       "2    [0.05027814581990242, -0.21238787472248077, 0....\n",
       "3    [0.22480608522891998, 0.11495525389909744, 0.5...\n",
       "4    [-0.04765690118074417, -0.08733634650707245, 0...\n",
       "Name: movie_description, dtype: object"
      ]
     },
     "execution_count": 11,
     "metadata": {},
     "output_type": "execute_result"
    }
   ],
   "source": [
    "inputDf.iloc[:5]['movie_description'].map(embed_description)"
   ]
  },
  {
   "cell_type": "markdown",
   "metadata": {},
   "source": [
    "The actual embedding of all 1000 movie descriptions - this takes a while"
   ]
  },
  {
   "cell_type": "code",
   "execution_count": 12,
   "metadata": {},
   "outputs": [
    {
     "name": "stdout",
     "output_type": "stream",
     "text": [
      "CPU times: total: 18min 54s\n",
      "Wall time: 3min 51s\n"
     ]
    }
   ],
   "source": [
    "%time inputDf['embeddings'] = inputDf['movie_description'].map(embed_description)"
   ]
  },
  {
   "cell_type": "markdown",
   "metadata": {},
   "source": [
    "Converting the embeddings column into a string to write it to SQLite table"
   ]
  },
  {
   "cell_type": "code",
   "execution_count": 13,
   "metadata": {},
   "outputs": [],
   "source": [
    "inputDf['stringEmbeddings'] = inputDf['embeddings'].apply(lambda x: f'{x}')\n",
    "inputDf.drop('embeddings',inplace=True,axis=1)\n",
    "inputDf.rename(columns={'stringEmbeddings':'embeddings'},inplace=True)"
   ]
  },
  {
   "cell_type": "code",
   "execution_count": 14,
   "metadata": {},
   "outputs": [
    {
     "data": {
      "text/html": [
       "<div>\n",
       "<style scoped>\n",
       "    .dataframe tbody tr th:only-of-type {\n",
       "        vertical-align: middle;\n",
       "    }\n",
       "\n",
       "    .dataframe tbody tr th {\n",
       "        vertical-align: top;\n",
       "    }\n",
       "\n",
       "    .dataframe thead th {\n",
       "        text-align: right;\n",
       "    }\n",
       "</style>\n",
       "<table border=\"1\" class=\"dataframe\">\n",
       "  <thead>\n",
       "    <tr style=\"text-align: right;\">\n",
       "      <th></th>\n",
       "      <th>movie_title</th>\n",
       "      <th>movie_description</th>\n",
       "      <th>embeddings</th>\n",
       "    </tr>\n",
       "  </thead>\n",
       "  <tbody>\n",
       "    <tr>\n",
       "      <th>0</th>\n",
       "      <td>Toy Story</td>\n",
       "      <td>Led by Woody, Andy's toys live happily in his ...</td>\n",
       "      <td>[-0.25185489654541016, 0.23600180447101593, 0....</td>\n",
       "    </tr>\n",
       "    <tr>\n",
       "      <th>1</th>\n",
       "      <td>Jumanji</td>\n",
       "      <td>When siblings Judy and Peter discover an encha...</td>\n",
       "      <td>[-0.20528849959373474, 0.14001354575157166, 0....</td>\n",
       "    </tr>\n",
       "    <tr>\n",
       "      <th>2</th>\n",
       "      <td>Grumpier Old Men</td>\n",
       "      <td>A family wedding reignites the ancient feud be...</td>\n",
       "      <td>[0.05027814581990242, -0.21238787472248077, 0....</td>\n",
       "    </tr>\n",
       "    <tr>\n",
       "      <th>3</th>\n",
       "      <td>Waiting to Exhale</td>\n",
       "      <td>Cheated on, mistreated and stepped on, the wom...</td>\n",
       "      <td>[0.22480608522891998, 0.11495525389909744, 0.5...</td>\n",
       "    </tr>\n",
       "    <tr>\n",
       "      <th>4</th>\n",
       "      <td>Father of the Bride Part II</td>\n",
       "      <td>Just when George Banks has recovered from his ...</td>\n",
       "      <td>[-0.04765690118074417, -0.08733634650707245, 0...</td>\n",
       "    </tr>\n",
       "    <tr>\n",
       "      <th>...</th>\n",
       "      <td>...</td>\n",
       "      <td>...</td>\n",
       "      <td>...</td>\n",
       "    </tr>\n",
       "    <tr>\n",
       "      <th>995</th>\n",
       "      <td>The Three Caballeros</td>\n",
       "      <td>For Donald's birthday he receives a box with t...</td>\n",
       "      <td>[-0.3604140877723694, 0.19241639971733093, 0.2...</td>\n",
       "    </tr>\n",
       "    <tr>\n",
       "      <th>996</th>\n",
       "      <td>The Sword in the Stone</td>\n",
       "      <td>Wart is a young boy who aspires to be a knight...</td>\n",
       "      <td>[-0.21462322771549225, 0.06435999274253845, 0....</td>\n",
       "    </tr>\n",
       "    <tr>\n",
       "      <th>997</th>\n",
       "      <td>So Dear to My Heart</td>\n",
       "      <td>The tale of Jeremiah Kincaid and his quest to ...</td>\n",
       "      <td>[-0.0900331661105156, 0.1550447940826416, 0.19...</td>\n",
       "    </tr>\n",
       "    <tr>\n",
       "      <th>998</th>\n",
       "      <td>Robin Hood: Prince of Thieves</td>\n",
       "      <td>When the dastardly Sheriff of Nottingham murde...</td>\n",
       "      <td>[-0.14862754940986633, 0.09581873565912247, 0....</td>\n",
       "    </tr>\n",
       "    <tr>\n",
       "      <th>999</th>\n",
       "      <td>Mary Poppins</td>\n",
       "      <td>The movie combines a diverting story, songs, c...</td>\n",
       "      <td>[-0.08443856239318848, 0.09806566685438156, 0....</td>\n",
       "    </tr>\n",
       "  </tbody>\n",
       "</table>\n",
       "<p>1000 rows × 3 columns</p>\n",
       "</div>"
      ],
      "text/plain": [
       "                       movie_title  \\\n",
       "0                        Toy Story   \n",
       "1                          Jumanji   \n",
       "2                 Grumpier Old Men   \n",
       "3                Waiting to Exhale   \n",
       "4      Father of the Bride Part II   \n",
       "..                             ...   \n",
       "995           The Three Caballeros   \n",
       "996         The Sword in the Stone   \n",
       "997            So Dear to My Heart   \n",
       "998  Robin Hood: Prince of Thieves   \n",
       "999                   Mary Poppins   \n",
       "\n",
       "                                     movie_description  \\\n",
       "0    Led by Woody, Andy's toys live happily in his ...   \n",
       "1    When siblings Judy and Peter discover an encha...   \n",
       "2    A family wedding reignites the ancient feud be...   \n",
       "3    Cheated on, mistreated and stepped on, the wom...   \n",
       "4    Just when George Banks has recovered from his ...   \n",
       "..                                                 ...   \n",
       "995  For Donald's birthday he receives a box with t...   \n",
       "996  Wart is a young boy who aspires to be a knight...   \n",
       "997  The tale of Jeremiah Kincaid and his quest to ...   \n",
       "998  When the dastardly Sheriff of Nottingham murde...   \n",
       "999  The movie combines a diverting story, songs, c...   \n",
       "\n",
       "                                            embeddings  \n",
       "0    [-0.25185489654541016, 0.23600180447101593, 0....  \n",
       "1    [-0.20528849959373474, 0.14001354575157166, 0....  \n",
       "2    [0.05027814581990242, -0.21238787472248077, 0....  \n",
       "3    [0.22480608522891998, 0.11495525389909744, 0.5...  \n",
       "4    [-0.04765690118074417, -0.08733634650707245, 0...  \n",
       "..                                                 ...  \n",
       "995  [-0.3604140877723694, 0.19241639971733093, 0.2...  \n",
       "996  [-0.21462322771549225, 0.06435999274253845, 0....  \n",
       "997  [-0.0900331661105156, 0.1550447940826416, 0.19...  \n",
       "998  [-0.14862754940986633, 0.09581873565912247, 0....  \n",
       "999  [-0.08443856239318848, 0.09806566685438156, 0....  \n",
       "\n",
       "[1000 rows x 3 columns]"
      ]
     },
     "execution_count": 14,
     "metadata": {},
     "output_type": "execute_result"
    }
   ],
   "source": [
    "inputDf"
   ]
  },
  {
   "cell_type": "markdown",
   "metadata": {},
   "source": [
    "Creating and writing the FAISS Index that uses inner product (as intended, for BERT embeddings)"
   ]
  },
  {
   "cell_type": "code",
   "execution_count": 15,
   "metadata": {},
   "outputs": [
    {
     "data": {
      "text/plain": [
       "1000"
      ]
     },
     "execution_count": 15,
     "metadata": {},
     "output_type": "execute_result"
    }
   ],
   "source": [
    "embeddingsArr = np.array(inputDf['embeddings'].apply(lambda x : eval(x)).tolist())\n",
    "len(embeddingsArr)"
   ]
  },
  {
   "cell_type": "code",
   "execution_count": 21,
   "metadata": {},
   "outputs": [],
   "source": [
    "writePath = \"A:\\\\Experiment_Programs\\\\VertexSearch\"\n",
    "indexFileName = \"moviesIndex.index\""
   ]
  },
  {
   "cell_type": "code",
   "execution_count": 22,
   "metadata": {},
   "outputs": [
    {
     "name": "stdout",
     "output_type": "stream",
     "text": [
      "True\n",
      "CPU times: total: 0 ns\n",
      "Wall time: 5.55 ms\n"
     ]
    }
   ],
   "source": [
    "movieIndex = faiss.index_factory(embeddingsArr.shape[1], \"Flat\",faiss.METRIC_INNER_PRODUCT)\n",
    "print(movieIndex.is_trained)\n",
    "%time movieIndex.add(embeddingsArr)\n",
    "faiss.write_index(movieIndex,os.path.join(writePath,indexFileName))"
   ]
  },
  {
   "cell_type": "markdown",
   "metadata": {},
   "source": [
    "Writing the movies dataset along with the embeddings into a SQLite Table"
   ]
  },
  {
   "cell_type": "code",
   "execution_count": 20,
   "metadata": {},
   "outputs": [
    {
     "data": {
      "text/plain": [
       "[(1000,)]"
      ]
     },
     "execution_count": 20,
     "metadata": {},
     "output_type": "execute_result"
    }
   ],
   "source": [
    "sqliteConnection = sqlite3.connect(os.path.join(writePath,'db.movies_embeddings'))\n",
    "cursor = sqliteConnection.cursor()\n",
    "cursor.execute('create table movies('+','.join(list(inputDf.columns))+')')\n",
    "cursor.executemany(\"insert into movies values(?,?,?)\",inputDf.values)\n",
    "sqliteConnection.commit()\n",
    "cursor.execute(\"select count(*) from movies;\").fetchall()"
   ]
  },
  {
   "cell_type": "markdown",
   "metadata": {},
   "source": [
    "Now, here is where the search comes in. The portion of code up until now encompasses the development work. The portion after will be the backend code that is triggered by a user directly, or using a front end app."
   ]
  },
  {
   "cell_type": "code",
   "execution_count": 23,
   "metadata": {},
   "outputs": [],
   "source": [
    "movieIndex = faiss.read_index(os.path.join(writePath,indexFileName))"
   ]
  },
  {
   "cell_type": "markdown",
   "metadata": {},
   "source": [
    "Getting the top k closest movies from the 1000 movies that semantically match a custom description"
   ]
  },
  {
   "cell_type": "code",
   "execution_count": 38,
   "metadata": {},
   "outputs": [],
   "source": [
    "k = 5\n",
    "description = \"Suggest historical movies\"\n",
    "nearestNeighborDistances,nearestNeighborIndices = movieIndex.search(np.array([embed_description(description)]),k)"
   ]
  },
  {
   "cell_type": "code",
   "execution_count": 39,
   "metadata": {},
   "outputs": [
    {
     "name": "stdout",
     "output_type": "stream",
     "text": [
      "Honigmond  -  German Comedy\n",
      "Richard III  -  Shakespeare's Play transplanted into a 1930s setting.\n",
      "It's My Party  -  A gathering of friends. A gift of love. A celebration of life.\n",
      "Paris, France  -  A writer has torrid fantasy affairs with young men.\n",
      "Living in Oblivion  -  Film about filmmaking. It takes place during one day on set of non-budget movie. Ultimate tribute to all independent filmmakers.\n"
     ]
    }
   ],
   "source": [
    "for i in range(k) :\n",
    "    movieRow = cursor.execute(f\"select movie_title,movie_description from movies limit 1 offset {nearestNeighborIndices[0][i]};\").fetchall()\n",
    "    print(movieRow[0][0],' - ',movieRow[0][1])"
   ]
  }
 ],
 "metadata": {
  "interpreter": {
   "hash": "6c6bf389477c0f8c51285094e9ed3cd59e47901678290bd0e6d5f2e30e183121"
  },
  "kernelspec": {
   "display_name": "Python 3.12.0 ('latestPyEnv')",
   "language": "python",
   "name": "python3"
  },
  "language_info": {
   "codemirror_mode": {
    "name": "ipython",
    "version": 3
   },
   "file_extension": ".py",
   "mimetype": "text/x-python",
   "name": "python",
   "nbconvert_exporter": "python",
   "pygments_lexer": "ipython3",
   "version": "3.12.0"
  },
  "orig_nbformat": 4
 },
 "nbformat": 4,
 "nbformat_minor": 2
}
